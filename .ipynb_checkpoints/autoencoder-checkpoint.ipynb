{
 "cells": [
  {
   "cell_type": "code",
   "execution_count": 68,
   "metadata": {},
   "outputs": [],
   "source": [
    "import cv2"
   ]
  },
  {
   "cell_type": "code",
   "execution_count": 69,
   "metadata": {},
   "outputs": [],
   "source": [
    "# import the necessary packages\n",
    "from conv.convautoencoder import ConvAutoencoder\n",
    "from tensorflow.keras.optimizers import Adam\n",
    "from tensorflow.keras.datasets import mnist\n",
    "import numpy as np\n",
    "import argparse"
   ]
  },
  {
   "cell_type": "code",
   "execution_count": 71,
   "metadata": {},
   "outputs": [
    {
     "name": "stdout",
     "output_type": "stream",
     "text": [
      "[INFO] loading MNIST dataset...\n"
     ]
    }
   ],
   "source": [
    "# initialize the number of epochs to train for and batch size\n",
    "EPOCHS = 25\n",
    "BS = 32\n",
    "\n",
    "# load the MNIST dataset\n",
    "print(\"[INFO] loading MNIST dataset...\")\n",
    "((trainX, _), (testX, _)) = mnist.load_data()\n"
   ]
  },
  {
   "cell_type": "code",
   "execution_count": 72,
   "metadata": {},
   "outputs": [],
   "source": [
    "# add a channel dimension to every image in the dataset, then scale\n",
    "# the pixel intensities to the range [0, 1]\n",
    "trX = np.expand_dims(trainX, axis=-1)\n",
    "teX = np.expand_dims(testX, axis=-1)"
   ]
  },
  {
   "cell_type": "code",
   "execution_count": 73,
   "metadata": {},
   "outputs": [],
   "source": [
    "trainX = trX.astype(\"float32\") / 255.0\n",
    "testX = teX.astype(\"float32\") / 255.0"
   ]
  },
  {
   "cell_type": "code",
   "execution_count": 74,
   "metadata": {},
   "outputs": [
    {
     "data": {
      "text/plain": [
       "(28, 28, 1)"
      ]
     },
     "execution_count": 74,
     "metadata": {},
     "output_type": "execute_result"
    }
   ],
   "source": [
    "trainX[0].shape"
   ]
  },
  {
   "cell_type": "code",
   "execution_count": 75,
   "metadata": {},
   "outputs": [
    {
     "data": {
      "text/plain": [
       "<matplotlib.image.AxesImage at 0x2309aa35978>"
      ]
     },
     "execution_count": 75,
     "metadata": {},
     "output_type": "execute_result"
    },
    {
     "data": {
      "image/png": "[encoded data removed]",
      "text/plain": [
       "<Figure size 432x288 with 1 Axes>"
      ]
     },
     "metadata": {
      "needs_background": "light"
     },
     "output_type": "display_data"
    }
   ],
   "source": [
    "#visualize\n",
    "%matplotlib inline\n",
    "import matplotlib\n",
    "matplotlib.use(\"Agg\")\n",
    "import matplotlib.pyplot as plt\n",
    "im = trainX.squeeze()\n",
    "plt.imshow(im[0])"
   ]
  },
  {
   "cell_type": "code",
   "execution_count": 76,
   "metadata": {},
   "outputs": [],
   "source": [
    "# sample noise from a random normal distribution centered at 0.5 (since\n",
    "# our images lie in the range [0, 1]) and a standard deviation of 0.5\n",
    "trainNoise = np.random.normal(loc=0.5, scale=0.5, size=trainX.shape)\n",
    "testNoise = np.random.normal(loc=0.5, scale=0.5, size=testX.shape)\n",
    "trainXNoisy = np.clip(trainX + trainNoise, 0, 1)\n",
    "testXNoisy = np.clip(testX + testNoise, 0, 1)"
   ]
  },
  {
   "cell_type": "code",
   "execution_count": 77,
   "metadata": {},
   "outputs": [
    {
     "data": {
      "text/plain": [
       "<matplotlib.image.AxesImage at 0x2309aad0978>"
      ]
     },
     "execution_count": 77,
     "metadata": {},
     "output_type": "execute_result"
    },
    {
     "data": {
      "image/png": "[encoded data removed]",
      "text/plain": [
       "<Figure size 432x288 with 1 Axes>"
      ]
     },
     "metadata": {
      "needs_background": "light"
     },
     "output_type": "display_data"
    }
   ],
   "source": [
    "#visualize\n",
    "%matplotlib inline\n",
    "import matplotlib\n",
    "matplotlib.use(\"Agg\")\n",
    "import matplotlib.pyplot as plt\n",
    "im = trainXNoisy.squeeze()\n",
    "plt.imshow(im[0])"
   ]
  },
  {
   "cell_type": "code",
   "execution_count": 78,
   "metadata": {},
   "outputs": [
    {
     "name": "stdout",
     "output_type": "stream",
     "text": [
      "building autoencoder...\n"
     ]
    }
   ],
   "source": [
    "# construct convolutional autoencoder\n",
    "print(\"building autoencoder...\")\n",
    "(encoder, decoder, autoencoder) = ConvAutoencoder.build(28, 28, 1)\n",
    "opt = Adam(lr=1e-3)\n",
    "autoencoder.compile(loss=\"mse\", optimizer=opt)"
   ]
  },
  {
   "cell_type": "code",
   "execution_count": 79,
   "metadata": {},
   "outputs": [
    {
     "name": "stdout",
     "output_type": "stream",
     "text": [
      "Train on 60000 samples, validate on 10000 samples\n",
      "Epoch 1/25\n",
      "60000/60000 [==============================] - 96s 2ms/sample - loss: 0.0283 - val_loss: 0.0195\n",
      "Epoch 2/25\n",
      "60000/60000 [==============================] - 96s 2ms/sample - loss: 0.0188 - val_loss: 0.0199\n",
      "Epoch 3/25\n",
      "60000/60000 [==============================] - 95s 2ms/sample - loss: 0.0177 - val_loss: 0.0180\n",
      "Epoch 4/25\n",
      "60000/60000 [==============================] - 95s 2ms/sample - loss: 0.0172 - val_loss: 0.0178\n",
      "Epoch 5/25\n",
      "60000/60000 [==============================] - 96s 2ms/sample - loss: 0.0168 - val_loss: 0.0167\n",
      "Epoch 6/25\n",
      "60000/60000 [==============================] - 96s 2ms/sample - loss: 0.0165 - val_loss: 0.0176\n",
      "Epoch 7/25\n",
      "60000/60000 [==============================] - 93s 2ms/sample - loss: 0.0162 - val_loss: 0.0209\n",
      "Epoch 8/25\n",
      "60000/60000 [==============================] - 95s 2ms/sample - loss: 0.0160 - val_loss: 0.0166\n",
      "Epoch 9/25\n",
      "60000/60000 [==============================] - 100s 2ms/sample - loss: 0.0158 - val_loss: 0.0163\n",
      "Epoch 10/25\n",
      "60000/60000 [==============================] - 98s 2ms/sample - loss: 0.0157 - val_loss: 0.0165\n",
      "Epoch 11/25\n",
      "60000/60000 [==============================] - 93s 2ms/sample - loss: 0.0156 - val_loss: 0.0160\n",
      "Epoch 12/25\n",
      "60000/60000 [==============================] - 89s 1ms/sample - loss: 0.0155 - val_loss: 0.0158\n",
      "Epoch 13/25\n",
      "60000/60000 [==============================] - 89s 1ms/sample - loss: 0.0153 - val_loss: 0.0167\n",
      "Epoch 14/25\n",
      "60000/60000 [==============================] - 91s 2ms/sample - loss: 0.0152 - val_loss: 0.0158\n",
      "Epoch 15/25\n",
      "60000/60000 [==============================] - 90s 1ms/sample - loss: 0.0151 - val_loss: 0.0160\n",
      "Epoch 16/25\n",
      "60000/60000 [==============================] - 89s 1ms/sample - loss: 0.0151 - val_loss: 0.0165\n",
      "Epoch 17/25\n",
      "60000/60000 [==============================] - 89s 1ms/sample - loss: 0.0150 - val_loss: 0.0156\n",
      "Epoch 18/25\n",
      "60000/60000 [==============================] - 89s 1ms/sample - loss: 0.0149 - val_loss: 0.0155\n",
      "Epoch 19/25\n",
      "60000/60000 [==============================] - 89s 1ms/sample - loss: 0.0149 - val_loss: 0.0157\n",
      "Epoch 20/25\n",
      "60000/60000 [==============================] - 89s 1ms/sample - loss: 0.0148 - val_loss: 0.0156\n",
      "Epoch 21/25\n",
      "60000/60000 [==============================] - 91s 2ms/sample - loss: 0.0147 - val_loss: 0.0155\n",
      "Epoch 22/25\n",
      "60000/60000 [==============================] - 89s 1ms/sample - loss: 0.0147 - val_loss: 0.0161\n",
      "Epoch 23/25\n",
      "60000/60000 [==============================] - 88s 1ms/sample - loss: 0.0146 - val_loss: 0.0157\n",
      "Epoch 24/25\n",
      "60000/60000 [==============================] - 93s 2ms/sample - loss: 0.0146 - val_loss: 0.0155\n",
      "Epoch 25/25\n",
      "60000/60000 [==============================] - 93s 2ms/sample - loss: 0.0145 - val_loss: 0.0156\n"
     ]
    }
   ],
   "source": [
    "# train the convolutional autoencoder\n",
    "H = autoencoder.fit(\n",
    "\ttrainXNoisy, trainX,\n",
    "\tvalidation_data=(testXNoisy, testX),\n",
    "\tepochs=EPOCHS,\n",
    "\tbatch_size=BS)"
   ]
  },
  {
   "cell_type": "code",
   "execution_count": 80,
   "metadata": {},
   "outputs": [
    {
     "ename": "NameError",
     "evalue": "name 'args' is not defined",
     "output_type": "error",
     "traceback": [
      "\u001b[1;31m---------------------------------------------------------------------------\u001b[0m",
      "\u001b[1;31mNameError\u001b[0m                                 Traceback (most recent call last)",
      "\u001b[1;32m<ipython-input-80-906089ff906d>\u001b[0m in \u001b[0;36m<module>\u001b[1;34m\u001b[0m\n\u001b[0;32m      9\u001b[0m \u001b[0mplt\u001b[0m\u001b[1;33m.\u001b[0m\u001b[0mylabel\u001b[0m\u001b[1;33m(\u001b[0m\u001b[1;34m\"Loss/Accuracy\"\u001b[0m\u001b[1;33m)\u001b[0m\u001b[1;33m\u001b[0m\u001b[1;33m\u001b[0m\u001b[0m\n\u001b[0;32m     10\u001b[0m \u001b[0mplt\u001b[0m\u001b[1;33m.\u001b[0m\u001b[0mlegend\u001b[0m\u001b[1;33m(\u001b[0m\u001b[0mloc\u001b[0m\u001b[1;33m=\u001b[0m\u001b[1;34m\"lower left\"\u001b[0m\u001b[1;33m)\u001b[0m\u001b[1;33m\u001b[0m\u001b[1;33m\u001b[0m\u001b[0m\n\u001b[1;32m---> 11\u001b[1;33m \u001b[0mplt\u001b[0m\u001b[1;33m.\u001b[0m\u001b[0msavefig\u001b[0m\u001b[1;33m(\u001b[0m\u001b[0margs\u001b[0m\u001b[1;33m[\u001b[0m\u001b[1;34m\"plot\"\u001b[0m\u001b[1;33m]\u001b[0m\u001b[1;33m)\u001b[0m\u001b[1;33m\u001b[0m\u001b[1;33m\u001b[0m\u001b[0m\n\u001b[0m",
      "\u001b[1;31mNameError\u001b[0m: name 'args' is not defined"
     ]
    },
    {
     "data": {
      "image/png": "[encoded data removed]",
      "text/plain": [
       "<Figure size 432x288 with 1 Axes>"
      ]
     },
     "metadata": {},
     "output_type": "display_data"
    }
   ],
   "source": [
    "# construct a plot that plots and saves the training history\n",
    "N = np.arange(0, EPOCHS)\n",
    "plt.style.use(\"ggplot\")\n",
    "plt.figure()\n",
    "plt.plot(N, H.history[\"loss\"], label=\"train_loss\")\n",
    "plt.plot(N, H.history[\"val_loss\"], label=\"val_loss\")\n",
    "plt.title(\"Training Loss and Accuracy\")\n",
    "plt.xlabel(\"Epoch #\")\n",
    "plt.ylabel(\"Loss/Accuracy\")\n",
    "plt.legend(loc=\"lower left\")"
   ]
  },
  {
   "cell_type": "code",
   "execution_count": 81,
   "metadata": {},
   "outputs": [
    {
     "name": "stdout",
     "output_type": "stream",
     "text": [
      "making predictions...\n"
     ]
    }
   ],
   "source": [
    "# use the convolutional autoencoder to make predictions on the\n",
    "# testing images, then initialize our list of output images\n",
    "print(\"making predictions...\")\n",
    "decoded = autoencoder.predict(testX)\n",
    "outputs = None"
   ]
  },
  {
   "cell_type": "code",
   "execution_count": 88,
   "metadata": {},
   "outputs": [],
   "source": [
    "# loop over our number of output samples\n",
    "for i in range(0, len(testXNoisy)):\n",
    "\t# grab the original image and reconstructed image\n",
    "\toriginal = (testXNoisy[i] * 255).astype(\"uint8\")\n",
    "\trecon = (decoded[i] * 255).astype(\"uint8\")\n",
    "\n",
    "\t# stack the original and reconstructed image side-by-side\n",
    "\toutput = np.hstack([original, recon])\n",
    "\n",
    "\t# if the outputs array is empty, initialize it as the current\n",
    "\t# side-by-side image display\n",
    "\tif outputs is None:\n",
    "\t\toutputs = output\n",
    "\n",
    "\t# otherwise, vertically stack the outputs\n",
    "\telse:\n",
    "\t\toutputs = np.vstack([outputs, output])"
   ]
  },
  {
   "cell_type": "code",
   "execution_count": 92,
   "metadata": {},
   "outputs": [],
   "source": [
    "# save the outputs image to disk\n",
    "cv2.imshow('output', outputs[])"
   ]
  },
  {
   "cell_type": "code",
   "execution_count": null,
   "metadata": {},
   "outputs": [],
   "source": []
  }
 ],
 "metadata": {
  "kernelspec": {
   "display_name": "Python 3",
   "language": "python",
   "name": "python3"
  },
  "language_info": {
   "codemirror_mode": {
    "name": "ipython",
    "version": 3
   },
   "file_extension": ".py",
   "mimetype": "text/x-python",
   "name": "python",
   "nbconvert_exporter": "python",
   "pygments_lexer": "ipython3",
   "version": "3.7.3"
  }
 },
 "nbformat": 4,
 "nbformat_minor": 4
}
